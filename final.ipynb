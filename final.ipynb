{
 "cells": [
  {
   "cell_type": "markdown",
   "id": "43a9cb62",
   "metadata": {},
   "source": [
    "## Influence of Lemmatization and Stemming in the Word Frequency Text Summarization "
   ]
  },
  {
   "cell_type": "code",
   "execution_count": 258,
   "id": "5d72d0e4",
   "metadata": {},
   "outputs": [],
   "source": [
    "import string\n",
    "import re\n",
    "import nltk\n",
    "import heapq\n",
    "import spacy"
   ]
  },
  {
   "cell_type": "code",
   "execution_count": 259,
   "id": "452ba7a5",
   "metadata": {},
   "outputs": [],
   "source": [
    "#Open and read the article\n",
    "f = open(\"/home/andre/Desktop/DataScience/P_sentimento/items_d.txt\", \"r\", encoding=\"utf8\")\n",
    "original_text = f.read()"
   ]
  },
  {
   "cell_type": "code",
   "execution_count": 260,
   "id": "6d25c4bd",
   "metadata": {},
   "outputs": [
    {
     "name": "stderr",
     "output_type": "stream",
     "text": [
      "[nltk_data] Downloading package punkt to /home/andre/nltk_data...\n",
      "[nltk_data]   Package punkt is already up-to-date!\n",
      "[nltk_data] Downloading package stopwords to /home/andre/nltk_data...\n",
      "[nltk_data]   Package stopwords is already up-to-date!\n"
     ]
    }
   ],
   "source": [
    "original_text = re.sub(r'\\s+', ' ', original_text)  \n",
    "\n",
    "nltk.download('punkt')  \n",
    "nltk.download('stopwords') \n",
    "\n",
    "stopwords = nltk.corpus.stopwords.words('portuguese')  "
   ]
  },
  {
   "cell_type": "code",
   "execution_count": 261,
   "id": "4034d06e",
   "metadata": {},
   "outputs": [],
   "source": [
    "def preprocessing(text):\n",
    "    rendered_text = text.lower()   \n",
    "   \n",
    "    # remove the stop words\n",
    "    tokens = []\n",
    "    for token in nltk.word_tokenize(rendered_text):  \n",
    "        tokens.append(token)\n",
    "\n",
    "    tokens = [word for word in tokens if word not in stopwords and word not in string.punctuation]  \n",
    "    rendered_text = ' '.join([str(element) for element in tokens if not element.isdigit()])\n",
    "\n",
    "    return rendered_text"
   ]
  },
  {
   "cell_type": "code",
   "execution_count": 262,
   "id": "e752c839",
   "metadata": {},
   "outputs": [],
   "source": [
    "pln = spacy.load('pt_core_news_sm') \n",
    "\n",
    "def preprocessing_lemmatization(text):\n",
    "    rendered_text = text.lower()   \n",
    "        \n",
    "    document = pln(rendered_text)\n",
    "    tokens = []\n",
    "    for token in document:\n",
    "        tokens.append(token.lemma_)\n",
    "\n",
    "    tokens = [word for word in tokens if word not in stopwords and word not in string.punctuation]  \n",
    "    rendered_text = ' '.join([str(element) for element in tokens if not element.isdigit()])\n",
    "\n",
    "    return rendered_text"
   ]
  },
  {
   "cell_type": "code",
   "execution_count": 263,
   "id": "fc022c24",
   "metadata": {},
   "outputs": [],
   "source": [
    "from nltk.stem import SnowballStemmer \n",
    "\n",
    "def preprocessing_stemming(text):\n",
    "    rendered_text = text.lower()   \n",
    "    tokens1 = nltk.word_tokenize(rendered_text, language=\"portuguese\")\n",
    "           \n",
    "    stemmer2 = SnowballStemmer(\"portuguese\")\n",
    "    document =  [stemmer2.stem(word) for word in tokens1] \n",
    "    tokens = []\n",
    "    for token in document:\n",
    "        tokens.append(token)\n",
    "\n",
    "    tokens = [word for word in tokens if word not in stopwords and word not in string.punctuation]  \n",
    "    rendered_text = ' '.join([str(element) for element in tokens if not element.isdigit()])\n",
    "\n",
    "    return rendered_text"
   ]
  },
  {
   "cell_type": "code",
   "execution_count": 264,
   "id": "5e5e759d",
   "metadata": {},
   "outputs": [],
   "source": [
    "def summarization(text, sentence_amount, methods):\n",
    "  original_text = text\n",
    "  if methods == 0:\n",
    "      rendered_text = preprocessing(original_text)\n",
    "  elif methods == 1:\n",
    "      rendered_text = preprocessing_lemmatization(original_text)\n",
    "  elif methods == 2:\n",
    "      rendered_text = preprocessing_stemming(original_text)\n",
    "  else:\n",
    "      print('The only options for methods are: 0 (no method), 1 (lemmatization) or 2 (stemming)')\n",
    "\n",
    "  word_frequency = nltk.FreqDist(nltk.word_tokenize(rendered_text))\n",
    "  maximum_frequency = max(word_frequency.values())\n",
    "  for word in word_frequency.keys():\n",
    "    word_frequency[word] = (word_frequency[word] / maximum_frequency)\n",
    "  list_sentences = nltk.sent_tokenize(original_text)\n",
    "  \n",
    "  note_sentences = {}\n",
    "  for sentence in list_sentences:\n",
    "    for word in nltk.word_tokenize(sentence):\n",
    "      if word in word_frequency.keys():\n",
    "        if sentence not in note_sentences.keys():\n",
    "          note_sentences[sentence] = word_frequency[word]\n",
    "        else:\n",
    "          note_sentences[sentence] += word_frequency[word]\n",
    "\n",
    "  best_sentences = heapq.nlargest(sentence_amount, note_sentences, key=note_sentences.get)\n",
    "\n",
    "  return list_sentences, best_sentences, word_frequency, note_sentences"
   ]
  },
  {
   "cell_type": "code",
   "execution_count": 275,
   "id": "0732a9d1",
   "metadata": {},
   "outputs": [],
   "source": [
    "list_sentences, best_sentences, _, _ = summarization(original_text, 2, 0)\n",
    "list_sentences1, best_sentences1, _, _ = summarization(original_text, 2, 1)\n",
    "list_sentences2, best_sentences2, _, _ = summarization(original_text, 2, 2)"
   ]
  },
  {
   "cell_type": "code",
   "execution_count": 276,
   "id": "f75ccf76",
   "metadata": {},
   "outputs": [],
   "source": [
    "def abstract_creator(best_sentences):\n",
    "    abstract = ' '.join(best_sentences)\n",
    "    return abstract"
   ]
  },
  {
   "cell_type": "code",
   "execution_count": 277,
   "id": "5ae1885f",
   "metadata": {},
   "outputs": [],
   "source": [
    "abstract_normal = abstract_creator(best_sentences)\n",
    "abstract_lemmatization = abstract_creator(best_sentences1)\n",
    "abstract_stemming = abstract_creator(best_sentences2)"
   ]
  },
  {
   "cell_type": "markdown",
   "id": "950db7b9",
   "metadata": {},
   "source": [
    "## Summary performed without method"
   ]
  },
  {
   "cell_type": "code",
   "execution_count": 278,
   "id": "45fa77a6",
   "metadata": {},
   "outputs": [
    {
     "data": {
      "text/plain": [
       "'Considerando os cenários avaliados, o balanço de riscos e o amplo conjunto de informações disponíveis, o Copom decidiu, por unanimidade, elevar a taxa básica de juros em 0,50 ponto percentual, para 13,75% a.a. O Comitê entende que essa decisão reflete a incerteza ao redor de seus cenários e um balanço de riscos com variância ainda maior do que a usual para a inflação prospectiva, e é compatível com a estratégia de convergência da inflação para o redor da meta ao longo do horizonte relevante, que inclui o ano de 2023 e, em grau menor, o de 2024. Nota ainda que a incerteza da atual conjuntura, tanto doméstica quanto global, aliada ao estágio avançado do ciclo de ajuste e seus impactos acumulados ainda por serem observados, demanda cautela adicional em sua atuação.'"
      ]
     },
     "execution_count": 278,
     "metadata": {},
     "output_type": "execute_result"
    }
   ],
   "source": [
    "abstract_normal"
   ]
  },
  {
   "cell_type": "markdown",
   "id": "ab9a3874",
   "metadata": {},
   "source": [
    "## Summary performed with lemmatization of the text"
   ]
  },
  {
   "cell_type": "code",
   "execution_count": 279,
   "id": "a1ae022b",
   "metadata": {},
   "outputs": [
    {
     "data": {
      "text/plain": [
       "\"Considerando os cenários avaliados, o balanço de riscos e o amplo conjunto de informações disponíveis, o Copom decidiu, por unanimidade, elevar a taxa básica de juros em 0,50 ponto percentual, para 13,75% a.a. O Comitê entende que essa decisão reflete a incerteza ao redor de seus cenários e um balanço de riscos com variância ainda maior do que a usual para a inflação prospectiva, e é compatível com a estratégia de convergência da inflação para o redor da meta ao longo do horizonte relevante, que inclui o ano de 2023 e, em grau menor, o de 2024. Votaram por essa decisão os seguintes membros do Comitê: Roberto de Oliveira Campos Neto (presidente), Bruno Serra Fernandes, Carolina de Assis Barros, Diogo Abry Guillen, Fernanda Magalhães Rumenos Guardado, Maurício Costa de Moura, Otávio Ribeiro Damaso, Paulo Sérgio Neves de Souza e Renato Dias de Brito Gomes.']\""
      ]
     },
     "execution_count": 279,
     "metadata": {},
     "output_type": "execute_result"
    }
   ],
   "source": [
    "abstract_lemmatization"
   ]
  },
  {
   "cell_type": "markdown",
   "id": "03f1c3f8",
   "metadata": {},
   "source": [
    "## Summary performed with stemming of the text"
   ]
  },
  {
   "cell_type": "code",
   "execution_count": 280,
   "id": "66be102d",
   "metadata": {},
   "outputs": [
    {
     "data": {
      "text/plain": [
       "'Considerando os cenários avaliados, o balanço de riscos e o amplo conjunto de informações disponíveis, o Copom decidiu, por unanimidade, elevar a taxa básica de juros em 0,50 ponto percentual, para 13,75% a.a. O Comitê entende que essa decisão reflete a incerteza ao redor de seus cenários e um balanço de riscos com variância ainda maior do que a usual para a inflação prospectiva, e é compatível com a estratégia de convergência da inflação para o redor da meta ao longo do horizonte relevante, que inclui o ano de 2023 e, em grau menor, o de 2024. O Comitê avaliará a necessidade de um ajuste residual, de menor magnitude, em sua próxima reunião.'"
      ]
     },
     "execution_count": 280,
     "metadata": {},
     "output_type": "execute_result"
    }
   ],
   "source": [
    "abstract_stemming"
   ]
  },
  {
   "cell_type": "code",
   "execution_count": 281,
   "id": "9142237b",
   "metadata": {},
   "outputs": [
    {
     "name": "stdout",
     "output_type": "stream",
     "text": [
      "772 867 649\n"
     ]
    }
   ],
   "source": [
    "print(len(abstract_normal), len(abstract_lemmatization), len(abstract_stemming))"
   ]
  },
  {
   "cell_type": "markdown",
   "id": "8872f599",
   "metadata": {},
   "source": [
    "## Metrics of the summaries created using different methods"
   ]
  },
  {
   "cell_type": "code",
   "execution_count": 272,
   "id": "038433b7",
   "metadata": {},
   "outputs": [],
   "source": [
    "import evaluate "
   ]
  },
  {
   "cell_type": "code",
   "execution_count": 304,
   "id": "60e3cbfc",
   "metadata": {},
   "outputs": [],
   "source": [
    "def rouge_metric(summary):\n",
    "    rouge = evaluate.load('rouge')  \n",
    "    # Summary performed by human. \n",
    "    references = [\"\"\"O Copom decidiu, por unanimidade, elevar a taxa básica de juros em 0,50 ponto percentual, para 13,75% a.a. Sem prejuízo de seu objetivo fundamental de assegurar a estabilidade de preços, essa decisão também implica\n",
    "    suavização das flutuações do nível de atividade econômica e fomento do pleno emprego.  O Comitê avaliará a necessidade de um ajuste residual, de menor magnitude, em\n",
    "    sua próxima reunião. O Copom enfatiza que seguirá vigilante e que os passos futuros\n",
    "    da política monetária poderão ser ajustados para assegurar a convergência da inflação\n",
    "    para suas metas.\"\"\"]\n",
    "    predictions = [summary]              \n",
    "    results = rouge.compute(predictions=predictions, references=references)\n",
    "    print('Number of words from summary elaborated by humans: ', len(human_summary))\n",
    "    print(results)\n",
    "    return results"
   ]
  },
  {
   "cell_type": "code",
   "execution_count": 305,
   "id": "978122a3",
   "metadata": {},
   "outputs": [
    {
     "name": "stdout",
     "output_type": "stream",
     "text": [
      "Number of words from summary elaborated by humans:  567\n",
      "{'rouge1': 0.47876447876447875, 'rouge2': 0.23346303501945526, 'rougeL': 0.3011583011583011, 'rougeLsum': 0.4015444015444015}\n"
     ]
    }
   ],
   "source": [
    "normal_summary = rouge_metric(abstract_normal)"
   ]
  },
  {
   "cell_type": "code",
   "execution_count": 309,
   "id": "7c66166a",
   "metadata": {},
   "outputs": [
    {
     "name": "stdout",
     "output_type": "stream",
     "text": [
      "Number of words from summary elaborated by humans:  567\n",
      "{'rouge1': 0.44688644688644685, 'rouge2': 0.2140221402214022, 'rougeL': 0.2783882783882784, 'rougeLsum': 0.3956043956043956}\n"
     ]
    }
   ],
   "source": [
    "lemmatization_summary = rouge_metric(abstract_lemmatization)"
   ]
  },
  {
   "cell_type": "code",
   "execution_count": 310,
   "id": "a2aa7578",
   "metadata": {},
   "outputs": [
    {
     "name": "stdout",
     "output_type": "stream",
     "text": [
      "Number of words from summary elaborated by humans:  567\n",
      "{'rouge1': 0.5774058577405857, 'rouge2': 0.37974683544303794, 'rougeL': 0.41004184100418406, 'rougeLsum': 0.502092050209205}\n"
     ]
    }
   ],
   "source": [
    "stemming_summary = rouge_metric(abstract_stemming)"
   ]
  },
  {
   "cell_type": "code",
   "execution_count": 306,
   "id": "bfc1b957",
   "metadata": {},
   "outputs": [],
   "source": [
    "import matplotlib.pyplot as plt "
   ]
  },
  {
   "cell_type": "code",
   "execution_count": 311,
   "id": "a301a8e3",
   "metadata": {},
   "outputs": [],
   "source": [
    "def bar_graph(summary):\n",
    "    y = list(summary.values())\n",
    "    x = list(summary.keys())\n",
    "    print(y)\n",
    "    print(x)\n",
    "    plt.bar(x,y, color=\"blue\")\n"
   ]
  },
  {
   "cell_type": "code",
   "execution_count": 312,
   "id": "70a3d8c0",
   "metadata": {},
   "outputs": [
    {
     "name": "stdout",
     "output_type": "stream",
     "text": [
      "[0.47876447876447875, 0.23346303501945526, 0.3011583011583011, 0.4015444015444015]\n",
      "['rouge1', 'rouge2', 'rougeL', 'rougeLsum']\n"
     ]
    },
    {
     "data": {
      "image/png": "[encoded data removed]",
      "text/plain": [
       "<Figure size 432x288 with 1 Axes>"
      ]
     },
     "metadata": {
      "needs_background": "light"
     },
     "output_type": "display_data"
    }
   ],
   "source": [
    "bar_graph(normal_summary)"
   ]
  },
  {
   "cell_type": "code",
   "execution_count": 313,
   "id": "185e352d",
   "metadata": {},
   "outputs": [
    {
     "name": "stdout",
     "output_type": "stream",
     "text": [
      "[0.44688644688644685, 0.2140221402214022, 0.2783882783882784, 0.3956043956043956]\n",
      "['rouge1', 'rouge2', 'rougeL', 'rougeLsum']\n"
     ]
    },
    {
     "data": {
      "image/png": "[encoded data removed]",
      "text/plain": [
       "<Figure size 432x288 with 1 Axes>"
      ]
     },
     "metadata": {
      "needs_background": "light"
     },
     "output_type": "display_data"
    }
   ],
   "source": [
    "bar_graph(lemmatization_summary)"
   ]
  },
  {
   "cell_type": "code",
   "execution_count": 314,
   "id": "f498729e",
   "metadata": {},
   "outputs": [
    {
     "name": "stdout",
     "output_type": "stream",
     "text": [
      "[0.5774058577405857, 0.37974683544303794, 0.41004184100418406, 0.502092050209205]\n",
      "['rouge1', 'rouge2', 'rougeL', 'rougeLsum']\n"
     ]
    },
    {
     "data": {
      "image/png": "[encoded data removed]",
      "text/plain": [
       "<Figure size 432x288 with 1 Axes>"
      ]
     },
     "metadata": {
      "needs_background": "light"
     },
     "output_type": "display_data"
    }
   ],
   "source": [
    "bar_graph(stemming_summary)"
   ]
  },
  {
   "cell_type": "markdown",
   "id": "8a73ce87",
   "metadata": {},
   "source": [
    "## Conclusion"
   ]
  },
  {
   "cell_type": "code",
   "execution_count": 315,
   "id": "44c3333f",
   "metadata": {},
   "outputs": [],
   "source": [
    "import pandas as pd"
   ]
  },
  {
   "cell_type": "code",
   "execution_count": 329,
   "id": "50792dab",
   "metadata": {},
   "outputs": [],
   "source": [
    "df = pd.DataFrame(data=[normal_summary, lemmatization_summary, stemming_summary], index=['normal_summary', 'lemmatization_summary', 'stemming_summary']) "
   ]
  },
  {
   "cell_type": "code",
   "execution_count": 331,
   "id": "d81628b4",
   "metadata": {},
   "outputs": [
    {
     "data": {
      "text/html": [
       "<div>\n",
       "<style scoped>\n",
       "    .dataframe tbody tr th:only-of-type {\n",
       "        vertical-align: middle;\n",
       "    }\n",
       "\n",
       "    .dataframe tbody tr th {\n",
       "        vertical-align: top;\n",
       "    }\n",
       "\n",
       "    .dataframe thead th {\n",
       "        text-align: right;\n",
       "    }\n",
       "</style>\n",
       "<table border=\"1\" class=\"dataframe\">\n",
       "  <thead>\n",
       "    <tr style=\"text-align: right;\">\n",
       "      <th></th>\n",
       "      <th>rouge1</th>\n",
       "      <th>rouge2</th>\n",
       "      <th>rougeL</th>\n",
       "      <th>rougeLsum</th>\n",
       "    </tr>\n",
       "  </thead>\n",
       "  <tbody>\n",
       "    <tr>\n",
       "      <th>normal_summary</th>\n",
       "      <td>0.478764</td>\n",
       "      <td>0.233463</td>\n",
       "      <td>0.301158</td>\n",
       "      <td>0.401544</td>\n",
       "    </tr>\n",
       "    <tr>\n",
       "      <th>lemmatization_summary</th>\n",
       "      <td>0.446886</td>\n",
       "      <td>0.214022</td>\n",
       "      <td>0.278388</td>\n",
       "      <td>0.395604</td>\n",
       "    </tr>\n",
       "    <tr>\n",
       "      <th>stemming_summary</th>\n",
       "      <td>0.577406</td>\n",
       "      <td>0.379747</td>\n",
       "      <td>0.410042</td>\n",
       "      <td>0.502092</td>\n",
       "    </tr>\n",
       "  </tbody>\n",
       "</table>\n",
       "</div>"
      ],
      "text/plain": [
       "                         rouge1    rouge2    rougeL  rougeLsum\n",
       "normal_summary         0.478764  0.233463  0.301158   0.401544\n",
       "lemmatization_summary  0.446886  0.214022  0.278388   0.395604\n",
       "stemming_summary       0.577406  0.379747  0.410042   0.502092"
      ]
     },
     "execution_count": 331,
     "metadata": {},
     "output_type": "execute_result"
    }
   ],
   "source": [
    "df"
   ]
  },
  {
   "cell_type": "code",
   "execution_count": 335,
   "id": "59d2b4a9",
   "metadata": {},
   "outputs": [
    {
     "data": {
      "text/plain": [
       "Index(['normal_summary', 'lemmatization_summary', 'stemming_summary'], dtype='object')"
      ]
     },
     "execution_count": 335,
     "metadata": {},
     "output_type": "execute_result"
    }
   ],
   "source": [
    "df.index  # index shows the name of the lines of a dataframe"
   ]
  },
  {
   "cell_type": "code",
   "execution_count": 343,
   "id": "ffe2cac9",
   "metadata": {},
   "outputs": [
    {
     "name": "stdout",
     "output_type": "stream",
     "text": [
      "The best method found for summarization using rouge1 metric was:  stemming_summary\n",
      "The best method found for summarization using rouge2 metric was:  stemming_summary\n",
      "The best method found for summarization using rougeL metric was:  stemming_summary\n",
      "The best method found for summarization using rougeLsum metric was:  stemming_summary\n"
     ]
    }
   ],
   "source": [
    "print('The best method found for summarization using rouge1 metric was: ', max(df['rouge1'].index))\n",
    "print('The best method found for summarization using rouge2 metric was: ', max(df['rouge2'].index))\n",
    "print('The best method found for summarization using rougeL metric was: ', max(df['rougeL'].index))\n",
    "print('The best method found for summarization using rougeLsum metric was: ', max(df['rougeLsum'].index))"
   ]
  }
 ],
 "metadata": {
  "kernelspec": {
   "display_name": "Python 3 (ipykernel)",
   "language": "python",
   "name": "python3"
  },
  "language_info": {
   "codemirror_mode": {
    "name": "ipython",
    "version": 3
   },
   "file_extension": ".py",
   "mimetype": "text/x-python",
   "name": "python",
   "nbconvert_exporter": "python",
   "pygments_lexer": "ipython3",
   "version": "3.9.12"
  }
 },
 "nbformat": 4,
 "nbformat_minor": 5
}
